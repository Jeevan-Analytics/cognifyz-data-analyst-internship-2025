{
 "cells": [
  {
   "cell_type": "code",
   "execution_count": 1,
   "id": "7b0fd282",
   "metadata": {},
   "outputs": [],
   "source": [
    "import pandas as pd\n",
    "import numpy as np\n",
    "import matplotlib.pyplot as plt\n",
    "import seaborn as sns\n",
    "import statsmodels.api as sm\n",
    "import re"
   ]
  },
  {
   "cell_type": "code",
   "execution_count": 2,
   "id": "4abf541a",
   "metadata": {},
   "outputs": [],
   "source": [
    "#Loading & Reading the DataSet\n",
    "df=pd.read_csv(\"C:\\\\Users\\\\hp\\\\Downloads\\\\Dataset .csv\")"
   ]
  },
  {
   "cell_type": "markdown",
   "id": "41976735",
   "metadata": {},
   "source": [
    "### Task -4   Online Delivery"
   ]
  },
  {
   "cell_type": "markdown",
   "id": "f716a662",
   "metadata": {},
   "source": [
    "a.) Determine the percentage of restaurants that offer online delivery"
   ]
  },
  {
   "cell_type": "code",
   "execution_count": 25,
   "id": "7f1d6aea",
   "metadata": {},
   "outputs": [],
   "source": [
    "# Clean column names\n",
    "df.columns = df.columns.str.strip().str.lower()\n",
    "\n",
    "# Clean column values\n",
    "df['has online delivery'] = df['has online delivery'].str.strip().str.lower()"
   ]
  },
  {
   "cell_type": "code",
   "execution_count": 26,
   "id": "c67c823d",
   "metadata": {},
   "outputs": [
    {
     "name": "stdout",
     "output_type": "stream",
     "text": [
      "Total Restaurants with Online Delivery: 2451\n"
     ]
    }
   ],
   "source": [
    "# Then access in lowercase\n",
    "online_delivery = df['has online delivery'].value_counts().get('yes', 0)\n",
    "print(\"Total Restaurants with Online Delivery:\", online_delivery)"
   ]
  },
  {
   "cell_type": "code",
   "execution_count": 27,
   "id": "5421b714",
   "metadata": {},
   "outputs": [
    {
     "name": "stdout",
     "output_type": "stream",
     "text": [
      "Restaurant with no online delivery: 7100\n"
     ]
    }
   ],
   "source": [
    "no = df['has online delivery'].value_counts().get('no', 0)\n",
    "print('Restaurant with no online delivery:', no)"
   ]
  },
  {
   "cell_type": "code",
   "execution_count": 28,
   "id": "ede082e7",
   "metadata": {},
   "outputs": [
    {
     "name": "stdout",
     "output_type": "stream",
     "text": [
      "Total % of online delivery: 25.66\n"
     ]
    }
   ],
   "source": [
    "## Total % of Online Delivery\n",
    "Row_count = len(df)\n",
    "percentage_of_online_delivery = round((online_delivery / Row_count) * 100, 2)\n",
    "print(\"Total % of online delivery:\", percentage_of_online_delivery)"
   ]
  },
  {
   "cell_type": "code",
   "execution_count": 30,
   "id": "830fe627",
   "metadata": {},
   "outputs": [
    {
     "name": "stdout",
     "output_type": "stream",
     "text": [
      "Total % of No Online Delivery: 74.34\n"
     ]
    }
   ],
   "source": [
    "# Calculate percentage\n",
    "percentage_no_delivery = round((no / Row_count) * 100, 2)\n",
    "print(\"Total % of No Online Delivery:\", percentage_no_delivery)"
   ]
  },
  {
   "cell_type": "markdown",
   "id": "0a40ef1e",
   "metadata": {},
   "source": [
    "b.) Compare the average ratings of restaurants\n",
    " with and without online delivery.\n"
   ]
  },
  {
   "cell_type": "code",
   "execution_count": null,
   "id": "c3e65b3b",
   "metadata": {},
   "outputs": [
    {
     "name": "stdout",
     "output_type": "stream",
     "text": [
      "Average Rating WITH Online Delivery: 3.25\n"
     ]
    }
   ],
   "source": [
    "# Filter based on online delivery\n",
    "with_online = df[df['has online delivery'] == 'yes']\n",
    "\n",
    "# Calculate average ratings\n",
    "avg_rating_with_online = with_online['aggregate rating'].mean()\n",
    "\n",
    "# Print results\n",
    "print(f\"Average Rating WITH Online Delivery: {avg_rating_with_online:.2f}\")"
   ]
  },
  {
   "cell_type": "code",
   "execution_count": 36,
   "id": "e57c5d5c",
   "metadata": {},
   "outputs": [
    {
     "name": "stdout",
     "output_type": "stream",
     "text": [
      "Average Rating WITHOUT Online Delivery: 2.47\n"
     ]
    }
   ],
   "source": [
    "# Filter restaurants without online delivery\n",
    "without_online = df[df['has online delivery'] == 'no']\n",
    "\n",
    "# Calculate average rating\n",
    "avg_rating_without_online = without_online['aggregate rating'].mean()\n",
    "\n",
    "# Print result\n",
    "print(f\"Average Rating WITHOUT Online Delivery: {avg_rating_without_online:.2f}\")"
   ]
  },
  {
   "cell_type": "code",
   "execution_count": 38,
   "id": "04f10a4d",
   "metadata": {},
   "outputs": [
    {
     "data": {
      "image/png": "[encoded data removed]",
      "text/plain": [
       "<Figure size 640x480 with 1 Axes>"
      ]
     },
     "metadata": {},
     "output_type": "display_data"
    }
   ],
   "source": [
    "labels = ['With Online Delivery', 'Without Online Delivery']\n",
    "ratings = [avg_rating_with_online, avg_rating_without_online]\n",
    "\n",
    "plt.bar(labels, ratings, color=['green', 'red'])\n",
    "plt.ylabel('Average Rating')\n",
    "plt.title('Average Restaurant Ratings: Online Delivery vs No Online Delivery')\n",
    "plt.ylim(0, 5)\n",
    "plt.show()\n"
   ]
  }
 ],
 "metadata": {
  "kernelspec": {
   "display_name": "Python 3",
   "language": "python",
   "name": "python3"
  },
  "language_info": {
   "codemirror_mode": {
    "name": "ipython",
    "version": 3
   },
   "file_extension": ".py",
   "mimetype": "text/x-python",
   "name": "python",
   "nbconvert_exporter": "python",
   "pygments_lexer": "ipython3",
   "version": "3.12.6"
  }
 },
 "nbformat": 4,
 "nbformat_minor": 5
}
