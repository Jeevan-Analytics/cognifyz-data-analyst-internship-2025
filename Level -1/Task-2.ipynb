{
 "cells": [
  {
   "cell_type": "code",
   "execution_count": 2,
   "id": "da25baeb",
   "metadata": {},
   "outputs": [],
   "source": [
    "import pandas as pd\n",
    "import numpy as np\n",
    "import matplotlib.pyplot as plt\n",
    "import seaborn as sns\n",
    "import statsmodels.api as sm\n",
    "import re"
   ]
  },
  {
   "cell_type": "code",
   "execution_count": null,
   "id": "2c81e65a",
   "metadata": {},
   "outputs": [],
   "source": [
    "#Loading & Reading the DataSet\n",
    "df=pd.read_csv(\"C:\\\\Users\\\\hp\\\\Downloads\\\\Dataset .csv\")"
   ]
  },
  {
   "cell_type": "markdown",
   "id": "637b336f",
   "metadata": {},
   "source": [
    "### Task - 2"
   ]
  },
  {
   "cell_type": "markdown",
   "id": "0f530980",
   "metadata": {},
   "source": [
    "a.) Identify the city with highest number of restaurants in the dataset"
   ]
  },
  {
   "cell_type": "code",
   "execution_count": 7,
   "id": "013b8663",
   "metadata": {},
   "outputs": [
    {
     "name": "stdout",
     "output_type": "stream",
     "text": [
      "Index(['Restaurant ID', 'Restaurant Name', 'Country Code', 'City', 'Address',\n",
      "       'Locality', 'Locality Verbose', 'Longitude', 'Latitude', 'Cuisines',\n",
      "       'Average Cost for two', 'Currency', 'Has Table booking',\n",
      "       'Has Online delivery', 'Is delivering now', 'Switch to order menu',\n",
      "       'Price range', 'Aggregate rating', 'Rating color', 'Rating text',\n",
      "       'Votes'],\n",
      "      dtype='object')\n"
     ]
    }
   ],
   "source": [
    "print(df.columns)"
   ]
  },
  {
   "cell_type": "code",
   "execution_count": 9,
   "id": "85113084",
   "metadata": {},
   "outputs": [
    {
     "name": "stdout",
     "output_type": "stream",
     "text": [
      "City with the highest number of restaurants : New Delhi\n",
      "City\n",
      "New Delhi    5473\n",
      "Name: count, dtype: int64\n"
     ]
    }
   ],
   "source": [
    "city_count=df['City'].value_counts()\n",
    "Restaurants_no = city_count.head(1)\n",
    "print(\"City with the highest number of restaurants :\",city_count.idxmax())\n",
    "print(Restaurants_no)"
   ]
  },
  {
   "cell_type": "markdown",
   "id": "0b4570c2",
   "metadata": {},
   "source": [
    "#### b.) Calculate the average rating for restaurants in each city"
   ]
  },
  {
   "cell_type": "code",
   "execution_count": 10,
   "id": "74b88c35",
   "metadata": {},
   "outputs": [
    {
     "name": "stdout",
     "output_type": "stream",
     "text": [
      "The average rating of each city :  City\n",
      "Abu Dhabi          4.300000\n",
      "Agra               3.965000\n",
      "Ahmedabad          4.161905\n",
      "Albany             3.555000\n",
      "Allahabad          3.395000\n",
      "                     ...   \n",
      "Weirton            3.900000\n",
      "Wellington City    4.250000\n",
      "Winchester Bay     3.200000\n",
      "Yorkton            3.300000\n",
      "��stanbul          4.292857\n",
      "Name: Aggregate rating, Length: 141, dtype: float64\n"
     ]
    }
   ],
   "source": [
    "rating_by_each_city = df.groupby('City')['Aggregate rating'].mean()\n",
    "print(\"The average rating of each city : \",rating_by_each_city )"
   ]
  },
  {
   "cell_type": "markdown",
   "id": "d5113ad9",
   "metadata": {},
   "source": [
    "#### C.) Determine the city with highest average rating"
   ]
  },
  {
   "cell_type": "code",
   "execution_count": 11,
   "id": "a2e80bf8",
   "metadata": {},
   "outputs": [
    {
     "name": "stdout",
     "output_type": "stream",
     "text": [
      "The city with Highest Avg. Rating is- : Inner City , Rating- 4.9\n"
     ]
    }
   ],
   "source": [
    "top_rated_city=rating_by_each_city.idxmax()\n",
    "value=rating_by_each_city.max()\n",
    "print(\"The city with Highest Avg. Rating is- :\",top_rated_city,\",\",\"Rating-\", value)"
   ]
  }
 ],
 "metadata": {
  "kernelspec": {
   "display_name": "Python 3",
   "language": "python",
   "name": "python3"
  },
  "language_info": {
   "codemirror_mode": {
    "name": "ipython",
    "version": 3
   },
   "file_extension": ".py",
   "mimetype": "text/x-python",
   "name": "python",
   "nbconvert_exporter": "python",
   "pygments_lexer": "ipython3",
   "version": "3.12.6"
  }
 },
 "nbformat": 4,
 "nbformat_minor": 5
}
