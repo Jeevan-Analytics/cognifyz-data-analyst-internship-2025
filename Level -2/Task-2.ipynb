{
 "cells": [
  {
   "cell_type": "code",
   "execution_count": 1,
   "id": "b2e61132",
   "metadata": {},
   "outputs": [],
   "source": [
    "import pandas as pd\n",
    "import numpy as np\n",
    "import matplotlib.pyplot as plt\n",
    "import seaborn as sns\n",
    "import statsmodels.api as sm\n",
    "import re"
   ]
  },
  {
   "cell_type": "code",
   "execution_count": 2,
   "id": "8fa15b56",
   "metadata": {},
   "outputs": [],
   "source": [
    "#Loading & Reading the DataSet\n",
    "df=pd.read_csv(\"C:\\\\Users\\\\hp\\\\Downloads\\\\Dataset .csv\")"
   ]
  },
  {
   "cell_type": "markdown",
   "id": "cd98481f",
   "metadata": {},
   "source": [
    "### Task1: Cuisine Combination"
   ]
  },
  {
   "cell_type": "markdown",
   "id": "c4bc9b06",
   "metadata": {},
   "source": [
    "a.) Identify the most common combinations of cuisines in the dataset."
   ]
  },
  {
   "cell_type": "code",
   "execution_count": null,
   "id": "e933a4ad",
   "metadata": {},
   "outputs": [
    {
     "name": "stdout",
     "output_type": "stream",
     "text": [
      "Index(['Restaurant ID', 'Restaurant Name', 'Country Code', 'City', 'Address',\n",
      "       'Locality', 'Locality Verbose', 'Longitude', 'Latitude', 'Cuisines',\n",
      "       'Average Cost for two', 'Currency', 'Has Table booking',\n",
      "       'Has Online delivery', 'Is delivering now', 'Switch to order menu',\n",
      "       'Price range', 'Aggregate rating', 'Rating color', 'Rating text',\n",
      "       'Votes'],\n",
      "      dtype='object')\n"
     ]
    }
   ],
   "source": [
    "print(df.columns)\n",
    "df.columns = df.columns.str.strip()"
   ]
  },
  {
   "cell_type": "code",
   "execution_count": null,
   "id": "3dab9ea3",
   "metadata": {},
   "outputs": [
    {
     "name": "stdout",
     "output_type": "stream",
     "text": [
      "The 10 most common combinations are:\n",
      " Cuisines\n",
      "Burger, Bar Food, Steak            4.9\n",
      "American, Burger, Grill            4.9\n",
      "American, Caribbean, Seafood       4.9\n",
      "American, Coffee and Tea           4.9\n",
      "Mexican, American, Healthy Food    4.9\n",
      "Italian, Bakery, Continental       4.9\n",
      "BBQ, Breakfast, Southern           4.9\n",
      "European, German                   4.9\n",
      "Hawaiian, Seafood                  4.9\n",
      "Sunda, Indonesian                  4.9\n",
      "Name: Aggregate rating, dtype: float64\n"
     ]
    }
   ],
   "source": [
    "# Step 1: Clean column names (remove extra spaces)\n",
    "df.columns = df.columns.str.strip()\n",
    "\n",
    "# Step 2: Group by cuisines and get mean of aggregate rating\n",
    "common_combination = df.groupby(\"Cuisines\")['Aggregate rating'].mean().sort_values(ascending=False)\n",
    "\n",
    "# Step 3: Get top 10\n",
    "top10 = common_combination.head(10)\n",
    "\n",
    "# Step 4: Print result\n",
    "print(\"The 10 most common combinations are:\\n\", top10)"
   ]
  },
  {
   "cell_type": "markdown",
   "id": "9d63b1e7",
   "metadata": {},
   "source": [
    " b.) Determine if certain cuisine combinations tend to have higher ratings."
   ]
  },
  {
   "cell_type": "code",
   "execution_count": 8,
   "id": "e06bdb34",
   "metadata": {},
   "outputs": [
    {
     "name": "stdout",
     "output_type": "stream",
     "text": [
      "The MAX Rating is : 4.9\n"
     ]
    }
   ],
   "source": [
    "max_rating=common_combination.iloc[0]\n",
    "print(\"The MAX Rating is :\", max_rating)"
   ]
  },
  {
   "cell_type": "code",
   "execution_count": 10,
   "id": "2681ba39",
   "metadata": {},
   "outputs": [
    {
     "name": "stdout",
     "output_type": "stream",
     "text": [
      "Restaurants having the maximum rating : 3                                           Ooma\n",
      "8       Spiral - Sofitel Philippine Plaza Manila\n",
      "10                              Silantro Fil-Mex\n",
      "39                                    Coco Bambu\n",
      "48                            Braseiro da G��vea\n",
      "                          ...                   \n",
      "9484              Restaurant Mosaic @ The Orient\n",
      "9514                            Ministry of Crab\n",
      "9524                                Gaga Manjero\n",
      "9538                                   Starbucks\n",
      "9540                            Draft Gastro Pub\n",
      "Name: Restaurant Name, Length: 61, dtype: object\n"
     ]
    }
   ],
   "source": [
    "max_rated_rest= df.loc[df['Aggregate rating'] == max_rating]\n",
    "print(\"Restaurants having the maximum rating :\", max_rated_rest['Restaurant Name'])"
   ]
  }
 ],
 "metadata": {
  "kernelspec": {
   "display_name": "Python 3",
   "language": "python",
   "name": "python3"
  },
  "language_info": {
   "codemirror_mode": {
    "name": "ipython",
    "version": 3
   },
   "file_extension": ".py",
   "mimetype": "text/x-python",
   "name": "python",
   "nbconvert_exporter": "python",
   "pygments_lexer": "ipython3",
   "version": "3.12.6"
  }
 },
 "nbformat": 4,
 "nbformat_minor": 5
}
